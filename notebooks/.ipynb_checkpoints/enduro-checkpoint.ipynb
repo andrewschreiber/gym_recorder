{
 "cells": [
  {
   "cell_type": "code",
   "execution_count": null,
   "metadata": {},
   "outputs": [],
   "source": [
    "import os\n",
    "import random\n",
    "import joblib\n",
    "import argparse\n",
    "\n",
    "import numpy as np\n",
    "import matplotlib.pyplot as plt\n",
    "%matplotlib inline\n",
    "import seaborn as sns\n",
    "sns.set_context('talk')\n",
    "from sklearn.manifold import TSNE\n",
    "\n",
    "from skimage.transform import rescale\n",
    "\n",
    "import tensorflow as tf\n",
    "from baselines.common.tf_util import load_variables\n",
    "from baselines import deepq\n",
    "from baselines.run import train\n",
    "import gym\n",
    "\n",
    "import sys\n",
    "sys.path.append('..')\n",
    "from gym_recorder.recorder import Recorder\n",
    "from gym_recorder.utils import shortlist_operations, get_activations\n",
    "from gym_recorder.perturb import perturb\n",
    "\n",
    "%load_ext autoreload\n",
    "%autoreload 2"
   ]
  },
  {
   "cell_type": "code",
   "execution_count": null,
   "metadata": {},
   "outputs": [],
   "source": [
    "arguments = dict(alg='deepq',\n",
    "            env='PongNoFrameskip-v4', \n",
    "            gamestate=None,\n",
    "            network=None,\n",
    "            num_env=None, \n",
    "            num_timesteps=0.0, \n",
    "            play=True, \n",
    "            reward_scale=1.0, \n",
    "            save_path=None, \n",
    "            seed=None)\n",
    "\n",
    "extra_arguments = dict(load_path='../../models/pong_1e6_dqn')\n",
    "\n",
    "parser = argparse.ArgumentParser()\n",
    "for key in arguments:\n",
    "    parser.add_argument(f'--{key}')\n",
    "\n",
    "extra_parser = argparse.ArgumentParser()\n",
    "for key in extra_arguments:\n",
    "    extra_parser.add_argument(f'--{key}')\n",
    "\n",
    "args = parser.parse_args('')\n",
    "extra_args = parser.parse_args('')\n",
    "\n",
    "args.alg = 'deepq'\n",
    "args.env='EnduroNoFrameskip-v4'\n",
    "args.gamestate=None\n",
    "args.network=None\n",
    "args.num_env=None\n",
    "args.num_timesteps=0.0\n",
    "args.play=True\n",
    "args.reward_scale=1.0\n",
    "args.save_path=None\n",
    "args.seed=None\n",
    "\n",
    "extra_args = dict(load_path='../models/enduro_0_dqn')\n",
    "\n",
    "model, env = train(args, extra_args)"
   ]
  },
  {
   "cell_type": "code",
   "execution_count": null,
   "metadata": {},
   "outputs": [],
   "source": [
    "# Set parameters\n",
    "session = tf.get_default_session()\n",
    "n_episodes = 1\n",
    "operations = {'q_values': 'deepq/q_func/action_value/fully_connected_1/MatMul',\n",
    "              '2nd_to_last': 'deepq_1/q_func/convnet/Conv_2/Relu'}\n",
    "input1 = session.graph.get_operation_by_name('deepq/observation').outputs[0]\n",
    "input2 = session.graph.get_operation_by_name('deepq_1/obs_t').outputs[0]"
   ]
  },
  {
   "cell_type": "code",
   "execution_count": null,
   "metadata": {},
   "outputs": [],
   "source": [
    "# Record gameplay\n",
    "recorder = Recorder(act=model, env=env, operations=operations)\n",
    "recorder.record(\n",
    "    session=session,\n",
    "    feed_operations=([input1, input2]), \n",
    "    max_episodes=1,\n",
    "#     max_steps=3000,\n",
    "    sample_modulo=1\n",
    ")"
   ]
  },
  {
   "cell_type": "code",
   "execution_count": null,
   "metadata": {},
   "outputs": [],
   "source": [
    "!pwd"
   ]
  },
  {
   "cell_type": "code",
   "execution_count": null,
   "metadata": {},
   "outputs": [],
   "source": [
    "len(recorder.observations)"
   ]
  },
  {
   "cell_type": "code",
   "execution_count": null,
   "metadata": {},
   "outputs": [],
   "source": [
    "recorder.observations = [ob for ix, ob in enumerate(recorder.observations) if (ix%5==0) and (ix<500)]"
   ]
  },
  {
   "cell_type": "code",
   "execution_count": null,
   "metadata": {},
   "outputs": [],
   "source": [
    "from skimage.io import imsave\n",
    "import glob\n",
    "\n",
    "for ix, frame in enumerate(recorder.frames[0:10]):\n",
    "    \n",
    "    filename = '/{:08}.png'.format(ix)\n",
    "    folder = os.path.abspath(\"../saliency2\")\n",
    "    imsave(folder+filename, frame)"
   ]
  },
  {
   "cell_type": "code",
   "execution_count": null,
   "metadata": {},
   "outputs": [],
   "source": []
  },
  {
   "cell_type": "code",
   "execution_count": null,
   "metadata": {},
   "outputs": [],
   "source": [
    "\n"
   ]
  },
  {
   "cell_type": "code",
   "execution_count": null,
   "metadata": {},
   "outputs": [],
   "source": [
    "step_size = 4\n",
    "recorder.get_saliencies(session=session,\n",
    "                        operation_name='deepq/q_func/action_value/fully_connected_1/MatMul',\n",
    "                        feed_operations=[input1, input2],\n",
    "                        step_size=step_size,\n",
    "                        mode='clipping'\n",
    "                       )"
   ]
  },
  {
   "cell_type": "code",
   "execution_count": null,
   "metadata": {},
   "outputs": [],
   "source": [
    "!ls"
   ]
  },
  {
   "cell_type": "code",
   "execution_count": null,
   "metadata": {},
   "outputs": [],
   "source": [
    "! open .."
   ]
  },
  {
   "cell_type": "code",
   "execution_count": null,
   "metadata": {},
   "outputs": [],
   "source": [
    "from skimage.io import imsave\n",
    "for ix, frame in enumerate(recorder.saliencies):\n",
    "    filename = '../saliencies_random/{:08}.png'.format(ix)\n",
    "    imsave(filename, frame)"
   ]
  },
  {
   "cell_type": "code",
   "execution_count": null,
   "metadata": {},
   "outputs": [],
   "source": [
    "for heatmap in recorder.saliencies:\n",
    "    plt.figure(figsize=(heatmap.shape[0]/20, heatmap.shape[1]/20))\n",
    "    plt.imshow(heatmap)\n",
    "    plt.show()"
   ]
  },
  {
   "cell_type": "code",
   "execution_count": null,
   "metadata": {},
   "outputs": [],
   "source": [
    "for heatmap in recorder.saliencies:\n",
    "    plt.figure(figsize=(heatmap.shape[0]/15, heatmap.shape[1]/15))\n",
    "    plt.imshow(heatmap)\n",
    "    plt.show()"
   ]
  },
  {
   "cell_type": "code",
   "execution_count": null,
   "metadata": {},
   "outputs": [],
   "source": [
    "plt.plot(recorder.actions)"
   ]
  },
  {
   "cell_type": "code",
   "execution_count": null,
   "metadata": {},
   "outputs": [],
   "source": [
    "plt.plot(recorder.episode_rewards)"
   ]
  },
  {
   "cell_type": "code",
   "execution_count": null,
   "metadata": {},
   "outputs": [],
   "source": [
    "env.reset()"
   ]
  },
  {
   "cell_type": "markdown",
   "metadata": {},
   "source": [
    "## TSNE"
   ]
  },
  {
   "cell_type": "code",
   "execution_count": null,
   "metadata": {},
   "outputs": [],
   "source": [
    "recorder.episode_rewards = [ob for ix, ob in enumerate(recorder.episode_rewards) if (ix%5==0) and (ix<500)]"
   ]
  },
  {
   "cell_type": "code",
   "execution_count": null,
   "metadata": {},
   "outputs": [],
   "source": [
    "len(recorder.observations)"
   ]
  },
  {
   "cell_type": "code",
   "execution_count": null,
   "metadata": {},
   "outputs": [],
   "source": [
    "mapping = {'n_steps': recorder.n_steps,\n",
    "           'episode_reward': recorder.episode_rewards}\n",
    "n_frames = 3000 #len(recorder.frames)"
   ]
  },
  {
   "cell_type": "code",
   "execution_count": null,
   "metadata": {},
   "outputs": [],
   "source": [
    "embedder = TSNE()\n",
    "activations = recorder.activations['2nd_to_last']\n",
    "vectors = [np.squeeze(array)[:,:,0].flatten() for array in activations]\n",
    "embedding = embedder.fit_transform(vectors)\n",
    "x, y = zip(*embedding)"
   ]
  },
  {
   "cell_type": "code",
   "execution_count": null,
   "metadata": {},
   "outputs": [],
   "source": [
    "for variable in mapping:\n",
    "    plt.figure(figsize=(10,5))\n",
    "    plt.scatter(x, y, c=mapping[variable], alpha=0.3)\n",
    "    plt.colorbar()\n",
    "    plt.title(f't-SNE embeddings of {n_frames} frames\\ncolored by {variable}')\n",
    "    plt.show()"
   ]
  },
  {
   "cell_type": "code",
   "execution_count": null,
   "metadata": {},
   "outputs": [],
   "source": []
  }
 ],
 "metadata": {
  "kernelspec": {
   "display_name": "Python [conda env:p36]",
   "language": "python",
   "name": "conda-env-p36-py"
  },
  "language_info": {
   "codemirror_mode": {
    "name": "ipython",
    "version": 3
   },
   "file_extension": ".py",
   "mimetype": "text/x-python",
   "name": "python",
   "nbconvert_exporter": "python",
   "pygments_lexer": "ipython3",
   "version": "3.6.1"
  }
 },
 "nbformat": 4,
 "nbformat_minor": 2
}
